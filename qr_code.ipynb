{
  "nbformat": 4,
  "nbformat_minor": 0,
  "metadata": {
    "colab": {
      "provenance": [],
      "authorship_tag": "ABX9TyMQhn+COhItWy5VuTrUfREe",
      "include_colab_link": true
    },
    "kernelspec": {
      "name": "python3",
      "display_name": "Python 3"
    },
    "language_info": {
      "name": "python"
    }
  },
  "cells": [
    {
      "cell_type": "markdown",
      "metadata": {
        "id": "view-in-github",
        "colab_type": "text"
      },
      "source": [
        "<a href=\"https://colab.research.google.com/github/Hannah-K97/qr-code/blob/main/qr_code.ipynb\" target=\"_parent\"><img src=\"https://colab.research.google.com/assets/colab-badge.svg\" alt=\"Open In Colab\"/></a>"
      ]
    },
    {
      "cell_type": "markdown",
      "source": [
        "### **QR Code**\n"
      ],
      "metadata": {
        "id": "eSJeR-YurYAa"
      }
    },
    {
      "cell_type": "code",
      "source": [
        "pip install qrcode"
      ],
      "metadata": {
        "colab": {
          "base_uri": "https://localhost:8080/"
        },
        "id": "MS3g7vIQrGts",
        "outputId": "46a27b2f-cafe-4240-ddc2-fbf24e1bac68"
      },
      "execution_count": 1,
      "outputs": [
        {
          "output_type": "stream",
          "name": "stdout",
          "text": [
            "Looking in indexes: https://pypi.org/simple, https://us-python.pkg.dev/colab-wheels/public/simple/\n",
            "Collecting qrcode\n",
            "  Downloading qrcode-7.3.1.tar.gz (43 kB)\n",
            "\u001b[2K     \u001b[90m━━━━━━━━━━━━━━━━━━━━━━━━━━━━━━━━━━━━━━━━\u001b[0m \u001b[32m43.5/43.5 KB\u001b[0m \u001b[31m2.8 MB/s\u001b[0m eta \u001b[36m0:00:00\u001b[0m\n",
            "\u001b[?25h  Preparing metadata (setup.py) ... \u001b[?25l\u001b[?25hdone\n",
            "Building wheels for collected packages: qrcode\n",
            "  Building wheel for qrcode (setup.py) ... \u001b[?25l\u001b[?25hdone\n",
            "  Created wheel for qrcode: filename=qrcode-7.3.1-py3-none-any.whl size=40400 sha256=00dadf3f9991c1ff2dc8eb77b89409515b9d648f5b8f78cbcb4281791a40d7eb\n",
            "  Stored in directory: /root/.cache/pip/wheels/35/fd/04/2768886c56207acee0d6dc6b9bd5d06dac63a810f0c0a42516\n",
            "Successfully built qrcode\n",
            "Installing collected packages: qrcode\n",
            "Successfully installed qrcode-7.3.1\n"
          ]
        }
      ]
    },
    {
      "cell_type": "code",
      "source": [
        "import qrcode\n",
        " \n",
        "# create QR code instance\n",
        "qr = qrcode.QRCode(\n",
        "\tversion=1,\n",
        "        error_correction=qrcode.constants.ERROR_CORRECT_H,\n",
        "\tbox_size=5,\n",
        "\tborder=5)\n",
        " \n",
        "# Enter data that you want to store in QR Code.\n",
        "qr_data = 'Please enter your data here that you want to store in QRcode'\n",
        "\n",
        "# Add data \n",
        "qr.add_data(qr_data)\n",
        "qr.make(fit=True)\n",
        " \n",
        "# Create an image from the QR code, you can choose fill color and back color by your like\n",
        "img = qr.make_image(fill_color='black', back_color='white')\n",
        " \n",
        "# Save the image, with whatever name you want to save\n",
        "img.save('qr.png')\n"
      ],
      "metadata": {
        "id": "gEPeDyjvoOzq"
      },
      "execution_count": 2,
      "outputs": []
    }
  ]
}